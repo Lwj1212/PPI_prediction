{
 "cells": [
  {
   "cell_type": "code",
   "execution_count": 1,
   "id": "086c6530-599f-40ec-a8d3-9565d8c9c9af",
   "metadata": {},
   "outputs": [],
   "source": [
    "import os\n",
    "import urllib.request\n",
    "import itertools\n",
    "import time\n",
    "\n",
    "import pandas as pd\n",
    "from Bio import Entrez,SeqIO"
   ]
  },
  {
   "cell_type": "markdown",
   "id": "9a8e532f-b3e6-4c0d-9652-f97cb707c8af",
   "metadata": {},
   "source": [
    "## **Function**"
   ]
  },
  {
   "cell_type": "code",
   "execution_count": 2,
   "id": "6492588e-4c45-4a84-b48d-e93be6f8b68f",
   "metadata": {},
   "outputs": [],
   "source": [
    "def get_protein_sequences(uniprot_list):\n",
    "    # This makes it so we match only the ENTRY field\n",
    "    uniprot_list = ['id%3A'+id for id in uniprot_list]\n",
    "    line = '+OR+'.join(uniprot_list)\n",
    "    url = f'https://www.uniprot.org/uniprot/?query={line}&format=fasta'\n",
    "    with urllib.request.urlopen(url) as f:\n",
    "        fasta = f.read().decode('utf-8').strip()\n",
    "    return fasta\n",
    "\n",
    "def swissprot_paritial_search(seq):\n",
    "    uniprot_list = list()\n",
    "    interval = 500\n",
    "    \n",
    "    for index in range(0, len(seq), interval):\n",
    "        search_seq = seq[index:(index+interval+1)]\n",
    "        uniprot_list.append(get_protein_sequences(search_seq))\n",
    "        print(index, end=\" \")\n",
    "        time.sleep(0.5)\n",
    "        \n",
    "    return uniprot_list"
   ]
  },
  {
   "cell_type": "code",
   "execution_count": 3,
   "id": "c1e1a689-6cd6-4492-ac22-353c654355d2",
   "metadata": {},
   "outputs": [
    {
     "data": {
      "text/plain": [
       "'/home/wmbio/WORK/gitworking/deeptrio/src'"
      ]
     },
     "execution_count": 3,
     "metadata": {},
     "output_type": "execute_result"
    }
   ],
   "source": [
    "os.getcwd()"
   ]
  },
  {
   "cell_type": "code",
   "execution_count": 4,
   "id": "0111d965-5ea6-4f1e-bc78-34d52e303086",
   "metadata": {},
   "outputs": [],
   "source": [
    "CD_HIT_PHTH = \"/home/wmbio/WORK/gitworking/deeptrio/data/CD-HIT_RESULT/\""
   ]
  },
  {
   "cell_type": "markdown",
   "id": "3a65bbae-aded-4fae-ae9d-b9c8cfb87022",
   "metadata": {
    "tags": []
   },
   "source": [
    "## **Positive PPI**"
   ]
  },
  {
   "cell_type": "markdown",
   "id": "34147148-0cd9-45c7-84b3-a4a18182993b",
   "metadata": {
    "tags": []
   },
   "source": [
    "### **BioGrid Dataset(Positive)**"
   ]
  },
  {
   "cell_type": "code",
   "execution_count": 5,
   "id": "b327ddb5-82ad-4be5-b571-08a144a6d400",
   "metadata": {
    "tags": []
   },
   "outputs": [
    {
     "name": "stdout",
     "output_type": "stream",
     "text": [
      "10450\n",
      "96326\n"
     ]
    }
   ],
   "source": [
    "'''\n",
    "condition -> A AND B - swiss prot, Human, Physical interaction\n",
    "'''\n",
    "bioGrid = pd.read_csv(\"../data/Positive/BIOGRID-MV-Physical-4.4.206.mitab.txt\", sep=\"\\t\")\n",
    "condition = (bioGrid['Alt IDs Interactor A'].str.contains('swiss-prot', regex= True, na=False)) & \\\n",
    "            (bioGrid['Alt IDs Interactor B'].str.contains('swiss-prot', regex= True, na=False)) & \\\n",
    "            (bioGrid['Taxid Interactor A'].str.match('taxid:9606', na=False)) & \\\n",
    "            (bioGrid['Taxid Interactor B'].str.match('taxid:9606', na=False))\n",
    "\n",
    "# uniprot 추출\n",
    "bioGrid = bioGrid[condition].iloc[:, 2:4]\n",
    "bioGrid.columns = [\"Interactor_A\", \"Interactor_B\"]\n",
    "\n",
    "interA_bioGrid = bioGrid['Interactor_A'].str.extract('((?<=swiss-prot:)[a-zA-Z0-9]+)', expand=False).to_list()\n",
    "interB_bioGrid = bioGrid['Interactor_B'].str.extract('((?<=swiss-prot:)[a-zA-Z0-9]+)', expand=False).to_list()\n",
    "\n",
    "duplicated_pair_bioGrid = set(zip(interA_bioGrid, interB_bioGrid))\n",
    "duplicated_pair_flat_bioGrid = list(set(itertools.chain(*duplicated_pair_bioGrid)))\n",
    "\n",
    "print(len(duplicated_pair_flat_bioGrid))\n",
    "print(len(duplicated_pair_bioGrid))"
   ]
  },
  {
   "cell_type": "markdown",
   "id": "00b955e9-9215-45f3-9f6d-b92231dfe37e",
   "metadata": {},
   "source": [
    "### **DIP(Positive)**"
   ]
  },
  {
   "cell_type": "code",
   "execution_count": 6,
   "id": "5db39441-4157-4e7e-ab78-65f12e66df78",
   "metadata": {},
   "outputs": [
    {
     "name": "stdout",
     "output_type": "stream",
     "text": [
      "3078\n",
      "5009\n"
     ]
    }
   ],
   "source": [
    "dip = pd.read_csv(\"../data/Positive/Hsapi20170205_DIP.txt\", sep=\"\\t\")\n",
    "\n",
    "condition = (dip['ID interactor A'].str.contains('uniprotkb:', regex=True, na=False)) & \\\n",
    "            (dip['ID interactor B'].str.contains('uniprotkb:', regex=True, na=False)) & \\\n",
    "            (dip['ID interactor A'] != dip['ID interactor B']) & \\\n",
    "            (dip['Taxid interactor A'].str.contains('Homo sapiens', na=False)) & \\\n",
    "            (dip['Taxid interactor B'].str.contains('Homo sapiens', na=False))\n",
    "\n",
    "dip = dip[condition].iloc[:, :2].dropna()\n",
    "dip.columns = [\"Interactor_A\", \"Interactor_B\"]\n",
    "\n",
    "interA_dip = dip['Interactor_A'].str.extract('((?<=uniprotkb:)[a-zA-Z0-9]+)', expand=False).to_list()\n",
    "interB_dip = dip['Interactor_B'].str.extract('((?<=uniprotkb:)[a-zA-Z0-9]+)', expand=False).to_list()\n",
    "\n",
    "duplicated_pair_dip = set(zip(interA_dip, interB_dip))\n",
    "duplicated_pair_flat_dip = list(set(itertools.chain(*duplicated_pair_dip)))\n",
    "\n",
    "print(len(duplicated_pair_flat_dip))\n",
    "print(len(duplicated_pair_dip))"
   ]
  },
  {
   "cell_type": "markdown",
   "id": "f74f0940-774b-4118-a89e-582f960a2193",
   "metadata": {
    "tags": []
   },
   "source": [
    "### **uniprot search with BioGrid, DIP**"
   ]
  },
  {
   "cell_type": "code",
   "execution_count": 7,
   "id": "2d0914d9-d67a-4baa-8416-544997beb23c",
   "metadata": {},
   "outputs": [
    {
     "name": "stdout",
     "output_type": "stream",
     "text": [
      "99214\n",
      "0 500 1000 1500 2000 2500 3000 3500 4000 4500 5000 5500 6000 6500 7000 7500 8000 8500 9000 9500 10000 10500 11000 11500 12000 12500 13000 13500 "
     ]
    }
   ],
   "source": [
    "duplicated_pair_flat = duplicated_pair_flat_bioGrid + duplicated_pair_flat_dip\n",
    "\n",
    "duplicated_pair = set()\n",
    "duplicated_pair.update(duplicated_pair_bioGrid)\n",
    "duplicated_pair.update(duplicated_pair_dip)\n",
    "print(len(duplicated_pair))\n",
    "\n",
    "protein_seq_raw = swissprot_paritial_search(duplicated_pair_flat)\n",
    "protein_seq = \"\\n\".join(protein_seq_raw)"
   ]
  },
  {
   "cell_type": "markdown",
   "id": "50c8bd9f-b5fd-48df-9a38-e08865021407",
   "metadata": {
    "tags": []
   },
   "source": [
    "### **HPRD(Positive)**"
   ]
  },
  {
   "cell_type": "code",
   "execution_count": 8,
   "id": "2a90569b-d9f6-4077-b387-403cb6c6ebac",
   "metadata": {},
   "outputs": [
    {
     "name": "stdout",
     "output_type": "stream",
     "text": [
      "7813\n",
      "28057\n"
     ]
    }
   ],
   "source": [
    "hrpd = pd.read_csv(\"../data/Positive/HPRD_Release9_062910/BINARY_PROTEIN_PROTEIN_INTERACTIONS_HPRD.txt\", sep=\"\\t\", header=None)\n",
    "\n",
    "hrpd = hrpd[hrpd[2] != hrpd[5]]\n",
    "hrpd = hrpd[hrpd[6] != 'yeast 2-hybrid']\n",
    "\n",
    "duplicated_pair_hrpd = set(zip(hrpd[2].to_list(), hrpd[5].to_list()))\n",
    "duplicated_pair_flat_hrpd = list(set(itertools.chain(*duplicated_pair_hrpd)))\n",
    "\n",
    "print(len(duplicated_pair_flat_hrpd))\n",
    "print(len(duplicated_pair_hrpd))"
   ]
  },
  {
   "cell_type": "markdown",
   "id": "0352d631-3c18-4ac8-bcc3-6fa63da95b68",
   "metadata": {},
   "source": [
    "* **RefSeq Search Entrez**"
   ]
  },
  {
   "cell_type": "code",
   "execution_count": 9,
   "id": "c12f3c50-0d4e-49fb-b01c-91865c6c9bc4",
   "metadata": {
    "tags": []
   },
   "outputs": [],
   "source": [
    "Entrez.email =\"sempre813@gmail.com\"\n",
    "\n",
    "request = Entrez.efetch(db=\"protein\", id=duplicated_pair_flat_hrpd, rettype=\"fasta\")\n",
    "seq_record = SeqIO.parse(request, \"fasta\")\n",
    "seq_record = list(seq_record)\n",
    "seq_record = [value for value in seq_record if 50 < len(''.join(value.seq)) < 1500]\n",
    "\n",
    "iid = list(map(lambda x : '>' + x.id, seq_record))\n",
    "seq = list(map(lambda x : \"\".join(x.seq), seq_record))\n",
    "\n",
    "hrpd_zip = list(zip(iid, seq))"
   ]
  },
  {
   "cell_type": "markdown",
   "id": "bc20b144-f2c3-4cad-885e-ea10c97fd8e7",
   "metadata": {},
   "source": [
    "### **Run CD-HIT(BioGrid, DIP, HRPD)**"
   ]
  },
  {
   "cell_type": "code",
   "execution_count": 10,
   "id": "0659c73c-9f26-4088-b8a9-abde8695445c",
   "metadata": {},
   "outputs": [],
   "source": [
    "iid, seq, temp_seq = list(), list(), list()\n",
    "\n",
    "for line in protein_seq.split(\"\\n\"):\n",
    "    if line.startswith(\">\"):\n",
    "        temp_seq = \"\".join(temp_seq)\n",
    "        if len(temp_seq) <= 50 or len(temp_seq) >= 1500:\n",
    "            temp_seq = list()\n",
    "        else :\n",
    "            iid.append(line)\n",
    "            seq.append(temp_seq)\n",
    "            temp_seq = list()\n",
    "    else :\n",
    "        temp_seq.append(line)\n",
    "seq.append(\"\".join(temp_seq))\n",
    "\n",
    "# BioGrid+DIP, HRPD\n",
    "id_seq_pair_raw = list(zip(iid, seq[1:])) + hrpd_zip\n",
    "\n",
    "with open(CD_HIT_PHTH + 'biogrid_search.fasta', 'w') as f:\n",
    "    for item in list(itertools.chain(*id_seq_pair_raw)):\n",
    "        f.write(\"%s\\n\" % item)"
   ]
  },
  {
   "cell_type": "markdown",
   "id": "1f62eb45-5f42-4ec1-b5e3-af49ff426070",
   "metadata": {},
   "source": [
    "* **bash CD-HIT**"
   ]
  },
  {
   "cell_type": "code",
   "execution_count": 11,
   "id": "faec8e46-504a-4e13-8908-ebcb930af117",
   "metadata": {
    "tags": []
   },
   "outputs": [
    {
     "name": "stdout",
     "output_type": "stream",
     "text": [
      "================================================================\n",
      "Program: CD-HIT, V4.8.1 (+OpenMP), Apr 07 2021, 10:57:21\n",
      "Command: cd-hit -i\n",
      "         /home/wmbio/WORK/gitworking/deeptrio/data/CD-HIT_RESULT/biogrid_search.fasta\n",
      "         -o\n",
      "         /home/wmbio/WORK/gitworking/deeptrio/data/CD-HIT_RESULT/biogrid_search_cdhit.fasta\n",
      "         -n 2 -c 0.4 -T 15 -M 1000\n",
      "\n",
      "Started: Wed Feb 23 08:43:42 2022\n",
      "================================================================\n",
      "                            Output                              \n",
      "----------------------------------------------------------------\n",
      "total seq: 19975\n",
      "longest and shortest : 1499 and 51\n",
      "Total letters: 10481557\n",
      "Sequences have been sorted\n",
      "\n",
      "Approximated minimal memory consumption:\n",
      "Sequence        : 13M\n",
      "Buffer          : 15 X 11M = 165M\n",
      "Table           : 2 X 0M = 0M\n",
      "Miscellaneous   : 0M\n",
      "Total           : 179M\n",
      "\n",
      "Table limit with the given memory limit:\n",
      "Max number of representatives: 1068766\n",
      "Max number of word counting entries: 102534677\n",
      "\n",
      "# comparing sequences from          0  to       1175\n",
      ".---------- new table with      547 representatives\n",
      "# comparing sequences from       1175  to       2280\n",
      "99.9%................---------- new table with      501 representatives\n",
      "# comparing sequences from       2280  to       3320\n",
      "100.0%---------- new table with      441 representatives\n",
      "# comparing sequences from       3320  to       4299\n",
      "99.9%---------- new table with      415 representatives\n",
      "# comparing sequences from       4299  to       5221\n",
      "100.0%---------- new table with      421 representatives\n",
      "# comparing sequences from       5221  to       6088\n",
      "99.9%---------- new table with      381 representatives\n",
      "# comparing sequences from       6088  to       6904\n",
      "100.0%---------- new table with      354 representatives\n",
      "# comparing sequences from       6904  to       7672\n",
      "99.9%---------- new table with      335 representatives\n",
      "# comparing sequences from       7672  to       8395\n",
      "100.0%---------- new table with      301 representatives\n",
      "# comparing sequences from       8395  to       9076\n",
      "99.9%---------- new table with      265 representatives\n",
      "# comparing sequences from       9076  to       9717\n",
      "99.9%---------- new table with      250 representatives\n",
      "# comparing sequences from       9717  to      10320\n",
      "99.9%---------- new table with      236 representatives\n",
      "# comparing sequences from      10320  to      10887\n",
      "100.0%---------- new table with      230 representatives\n",
      "# comparing sequences from      10887  to      11421\n",
      "100.0%---------- new table with      209 representatives\n",
      "# comparing sequences from      11421  to      11924\n",
      "99.9%---------- new table with      210 representatives\n",
      "# comparing sequences from      11924  to      12397\n",
      "99.9%---------- new table with      187 representatives\n",
      "# comparing sequences from      12397  to      12842\n",
      "100.0%---------- new table with      178 representatives\n",
      "# comparing sequences from      12842  to      13261\n",
      "99.9%---------- new table with      156 representatives\n",
      "# comparing sequences from      13261  to      13655\n",
      "99.9%---------- new table with      166 representatives\n",
      "# comparing sequences from      13655  to      14026\n",
      "99.9%---------- new table with      168 representatives\n",
      "# comparing sequences from      14026  to      14375\n",
      "99.9%---------- new table with      148 representatives\n",
      "# comparing sequences from      14375  to      14704\n",
      "99.9%---------- new table with      141 representatives\n",
      "# comparing sequences from      14704  to      15014\n",
      "100.0%---------- new table with      130 representatives\n",
      "# comparing sequences from      15014  to      15305\n",
      "99.9%---------- new table with      133 representatives\n",
      "# comparing sequences from      15305  to      15579\n",
      "99.9%---------- new table with      115 representatives\n",
      "# comparing sequences from      15579  to      15837\n",
      "99.9%---------- new table with      122 representatives\n",
      "# comparing sequences from      15837  to      16080\n",
      "99.9%---------- new table with       95 representatives\n",
      "# comparing sequences from      16080  to      16309\n",
      "99.9%---------- new table with      118 representatives\n",
      "# comparing sequences from      16309  to      16524\n",
      "100.0%---------- new table with       98 representatives\n",
      "# comparing sequences from      16524  to      16727\n",
      "99.9%---------- new table with       84 representatives\n",
      "# comparing sequences from      16727  to      16918\n",
      "99.9%---------- new table with       68 representatives\n",
      "# comparing sequences from      16918  to      17097\n",
      "99.9%---------- new table with       64 representatives\n",
      "# comparing sequences from      17097  to      17266\n",
      "99.9%---------- new table with       73 representatives\n",
      "# comparing sequences from      17266  to      17425\n",
      "100.0%---------- new table with       67 representatives\n",
      "# comparing sequences from      17425  to      17575\n",
      "99.9%---------- new table with       59 representatives\n",
      "# comparing sequences from      17575  to      17716\n",
      "99.9%---------- new table with       50 representatives\n",
      "# comparing sequences from      17716  to      17848\n",
      "99.9%---------- new table with       70 representatives\n",
      "# comparing sequences from      17848  to      17973\n",
      "99.9%---------- new table with       47 representatives\n",
      "# comparing sequences from      17973  to      18090\n",
      "99.9%---------- new table with       59 representatives\n",
      "# comparing sequences from      18090  to      18200\n",
      "99.8%---------- new table with       48 representatives\n",
      "# comparing sequences from      18200  to      18304\n",
      "100.0%---------- new table with       46 representatives\n",
      "# comparing sequences from      18304  to      18402\n",
      "100.0%---------- new table with       42 representatives\n",
      "# comparing sequences from      18402  to      18494\n",
      "99.9%---------- new table with       39 representatives\n",
      "# comparing sequences from      18494  to      18581\n",
      "99.9%---------- new table with       39 representatives\n",
      "# comparing sequences from      18581  to      18663\n",
      "99.9%---------- new table with       41 representatives\n",
      "# comparing sequences from      18663  to      18740\n",
      "99.9%---------- new table with       32 representatives\n",
      "# comparing sequences from      18740  to      18812\n",
      "99.9%---------- new table with       32 representatives\n",
      "# comparing sequences from      18812  to      18880\n",
      "100.0%---------- new table with       28 representatives\n",
      "# comparing sequences from      18880  to      18944\n",
      "100.0%---------- new table with       33 representatives\n",
      "# comparing sequences from      18944  to      19004\n",
      "99.9%---------- new table with       26 representatives\n",
      "# comparing sequences from      19004  to      19975\n",
      "....................---------- new table with      435 representatives\n",
      "\n",
      "    19975  finished       8533  clusters\n",
      "\n",
      "Approximated maximum memory consumption: 182M\n",
      "writing new database\n",
      "writing clustering information\n",
      "program completed !\n",
      "\n",
      "Total CPU time 2397.73\n"
     ]
    }
   ],
   "source": [
    "!bash run_cd_hit.sh {CD_HIT_PHTH}biogrid_search.fasta {CD_HIT_PHTH}biogrid_search_cdhit.fasta"
   ]
  },
  {
   "cell_type": "code",
   "execution_count": 12,
   "id": "0f46fccd-ba03-486b-b905-e1163414e019",
   "metadata": {},
   "outputs": [],
   "source": [
    "cdhit_seq, iid, seq, temp_seq = list(), list(), list(), list()\n",
    "\n",
    "with open(CD_HIT_PHTH + 'biogrid_search_cdhit.fasta', 'r') as f:\n",
    "    for line in f:\n",
    "        cdhit_seq.append(line.strip(\"\\n\"))\n",
    "\n",
    "for index in range(len(cdhit_seq)):\n",
    "    if index == 0:\n",
    "        iid.append(cdhit_seq[index])  \n",
    "    else :\n",
    "        if cdhit_seq[index].startswith(\">\"):\n",
    "            iid.append(cdhit_seq[index])\n",
    "        else :\n",
    "            seq.append(cdhit_seq[index])            \n",
    "id_seq_pair = list(zip(iid, seq))"
   ]
  },
  {
   "cell_type": "markdown",
   "id": "ff4ad2f0-6c2a-40bc-923b-4b7e20dce2bf",
   "metadata": {},
   "source": [
    "* **Set to DataFrame**"
   ]
  },
  {
   "cell_type": "code",
   "execution_count": 13,
   "id": "40156d59-e2e2-46d4-b907-996a6fff46b7",
   "metadata": {},
   "outputs": [
    {
     "data": {
      "text/plain": [
       "8533"
      ]
     },
     "execution_count": 13,
     "metadata": {},
     "output_type": "execute_result"
    }
   ],
   "source": [
    "duplicated_pair.update(duplicated_pair_hrpd)\n",
    "\n",
    "duplicated_pair_df = pd.DataFrame(duplicated_pair)\n",
    "duplicated_pair_df.columns = [\"Interactor_A\", \"Interactor_B\"]\n",
    "\n",
    "id_seq_pair_df = pd.DataFrame(id_seq_pair)\n",
    "\n",
    "id_seq_pair_df.columns = [\"id\", \"seq\"]\n",
    "len(id_seq_pair_df.dropna())"
   ]
  },
  {
   "cell_type": "code",
   "execution_count": 14,
   "id": "551d3b53-4073-4915-ab9d-30b311f1ef41",
   "metadata": {},
   "outputs": [
    {
     "name": "stderr",
     "output_type": "stream",
     "text": [
      "/home/wmbio/anaconda3/envs/deeptrio-gpu/lib/python3.7/site-packages/ipykernel_launcher.py:3: SettingWithCopyWarning: \n",
      "A value is trying to be set on a copy of a slice from a DataFrame.\n",
      "Try using .loc[row_indexer,col_indexer] = value instead\n",
      "\n",
      "See the caveats in the documentation: https://pandas.pydata.org/pandas-docs/stable/user_guide/indexing.html#returning-a-view-versus-a-copy\n",
      "  This is separate from the ipykernel package so we can avoid doing imports until\n"
     ]
    }
   ],
   "source": [
    "refseq = id_seq_pair_df[id_seq_pair_df['id'].str.startswith(\">NP\")]\n",
    "\n",
    "refseq['id'] = refseq['id'].str.replace(\">\",\"\",1)\n",
    "\n",
    "id_seq_pair_df['id'] = id_seq_pair_df['id'].str.extract('((?<=\\\\>sp\\\\|)[a-zA-Z0-9]+)', expand=False)\n",
    "\n",
    "id_seq_pair_df = id_seq_pair_df.dropna().append(refseq, ignore_index=True)"
   ]
  },
  {
   "cell_type": "markdown",
   "id": "6c42fb39-168e-414b-b5cf-f977bf3a7cdd",
   "metadata": {},
   "source": [
    "* **Check protein pairs in CD-Hit Database**"
   ]
  },
  {
   "cell_type": "code",
   "execution_count": 15,
   "id": "909ea07d-65f2-4ed8-b04e-6ef894e994b7",
   "metadata": {},
   "outputs": [],
   "source": [
    "# pair df filter\n",
    "duplicated_pair_df['Check_A'] = duplicated_pair_df['Interactor_A'].apply(lambda x : 1 if x in id_seq_pair_df.id.to_list() else 0)\n",
    "duplicated_pair_df['Check_B'] = duplicated_pair_df['Interactor_B'].apply(lambda x : 1 if x in id_seq_pair_df.id.to_list() else 0)\n",
    "\n",
    "duplicated_pair_df = duplicated_pair_df[(duplicated_pair_df.Check_A == 1) & (duplicated_pair_df.Check_B == 1)].iloc[:, 0:2]\n",
    "duplicated_pair_df['label'] = [1 for _ in range(duplicated_pair_df.shape[0])]"
   ]
  },
  {
   "cell_type": "code",
   "execution_count": 16,
   "id": "0b458fd0-df3b-471b-bdf5-4b8e01aef4b9",
   "metadata": {},
   "outputs": [],
   "source": [
    "# id seq pair filter\n",
    "dup_pair_seq = set((list(duplicated_pair_df.Interactor_A.to_list()) + list(duplicated_pair_df.Interactor_B.to_list())))\n",
    "\n",
    "id_seq_pair_df['Check_A'] = id_seq_pair_df['id'].apply(lambda x : 1 if x in dup_pair_seq else 0)\n",
    "id_seq_pair_df['Check_B'] = id_seq_pair_df['id'].apply(lambda x : 1 if x in dup_pair_seq else 0)\n",
    "\n",
    "id_seq_pair_df = id_seq_pair_df[(id_seq_pair_df.Check_A == 1) & (id_seq_pair_df.Check_B == 1)].iloc[:, 0:2]"
   ]
  },
  {
   "cell_type": "code",
   "execution_count": 17,
   "id": "4f780fbe-d620-4df7-aa06-3d64eea7ad87",
   "metadata": {},
   "outputs": [],
   "source": [
    "# final\n",
    "positivePair = duplicated_pair_df\n",
    "positivePair_seq = id_seq_pair_df"
   ]
  },
  {
   "cell_type": "markdown",
   "id": "e8c3d987-5cb6-4fbb-b43f-9c8eb62836f1",
   "metadata": {
    "tags": []
   },
   "source": [
    "## **Negative PPI**"
   ]
  },
  {
   "cell_type": "markdown",
   "id": "5081badc-fe02-4d58-90f6-aa01aa7e3baa",
   "metadata": {},
   "source": [
    "### **Negatome database**"
   ]
  },
  {
   "cell_type": "code",
   "execution_count": 18,
   "id": "5e7b1503-78b8-4488-8729-35dea254ae8e",
   "metadata": {},
   "outputs": [
    {
     "name": "stderr",
     "output_type": "stream",
     "text": [
      "/home/wmbio/anaconda3/envs/deeptrio-gpu/lib/python3.7/site-packages/ipykernel_launcher.py:7: SettingWithCopyWarning: \n",
      "A value is trying to be set on a copy of a slice from a DataFrame.\n",
      "Try using .loc[row_indexer,col_indexer] = value instead\n",
      "\n",
      "See the caveats in the documentation: https://pandas.pydata.org/pandas-docs/stable/user_guide/indexing.html#returning-a-view-versus-a-copy\n",
      "  import sys\n",
      "/home/wmbio/anaconda3/envs/deeptrio-gpu/lib/python3.7/site-packages/ipykernel_launcher.py:8: SettingWithCopyWarning: \n",
      "A value is trying to be set on a copy of a slice from a DataFrame.\n",
      "Try using .loc[row_indexer,col_indexer] = value instead\n",
      "\n",
      "See the caveats in the documentation: https://pandas.pydata.org/pandas-docs/stable/user_guide/indexing.html#returning-a-view-versus-a-copy\n",
      "  \n",
      "/home/wmbio/anaconda3/envs/deeptrio-gpu/lib/python3.7/site-packages/ipykernel_launcher.py:9: SettingWithCopyWarning: \n",
      "A value is trying to be set on a copy of a slice from a DataFrame.\n",
      "Try using .loc[row_indexer,col_indexer] = value instead\n",
      "\n",
      "See the caveats in the documentation: https://pandas.pydata.org/pandas-docs/stable/user_guide/indexing.html#returning-a-view-versus-a-copy\n",
      "  if __name__ == '__main__':\n"
     ]
    }
   ],
   "source": [
    "negatome = pd.read_csv(\"../data/Negative/16169070_neg.mitab\", sep = \"\\t\", header=None)\n",
    "\n",
    "negatome_select = negatome.iloc[:, [0,1,14]]\n",
    "negatome_select.columns = ['Interactor_A', 'Interactor_B', 'shortestPath']\n",
    "\n",
    "# ID extraction\n",
    "negatome_select['Interactor_A'] = negatome_select['Interactor_A'].str.extract('((?<=uniprotkb:)[a-zA-Z0-9]+)', expand=False)\n",
    "negatome_select['Interactor_B'] = negatome_select['Interactor_B'].str.extract('((?<=uniprotkb:)[a-zA-Z0-9]+)', expand=False)\n",
    "negatome_select['shortestPath'] = negatome_select['shortestPath'].str.extract('((?<=shortestPath:)[0-9]+)', expand=False)\n",
    "negatome_select = negatome_select.dropna()\n",
    "negatome_select = negatome_select.astype({'shortestPath': 'int'})"
   ]
  },
  {
   "cell_type": "code",
   "execution_count": 19,
   "id": "37457c41-c417-4e08-80f1-2fd8d46fb32b",
   "metadata": {},
   "outputs": [],
   "source": [
    "negatome_filterd = negatome_select[negatome_select.shortestPath >= 7]"
   ]
  },
  {
   "cell_type": "code",
   "execution_count": 20,
   "id": "9567209b-4d15-4d2a-9665-0b8e0dcd54d0",
   "metadata": {},
   "outputs": [
    {
     "name": "stdout",
     "output_type": "stream",
     "text": [
      "1566\n",
      "73843\n"
     ]
    }
   ],
   "source": [
    "interA_negatome = negatome_filterd['Interactor_A'].to_list()\n",
    "interB_negatome = negatome_filterd['Interactor_B'].to_list()\n",
    "\n",
    "duplicated_pair_negatome = set(zip(interA_negatome, interB_negatome))\n",
    "duplicated_pair_flat_negatome = list(set(itertools.chain(*duplicated_pair_negatome)))\n",
    "\n",
    "print(len(duplicated_pair_flat_negatome))\n",
    "print(len(duplicated_pair_negatome))"
   ]
  },
  {
   "cell_type": "markdown",
   "id": "e8381c1d-e2e5-48a4-961b-982d18dd8a31",
   "metadata": {},
   "source": [
    "### **Negatome database2**"
   ]
  },
  {
   "cell_type": "code",
   "execution_count": 21,
   "id": "058be6a8-4c4a-4eea-90e7-81d7039d86e8",
   "metadata": {},
   "outputs": [],
   "source": [
    "negatome2 = pd.read_csv(\"../data/Negative/combined_stringent.txt\", sep = \"\\t\", header=None)\n",
    "negatome2.columns = ['Interactor_A', 'Interactor_B']"
   ]
  },
  {
   "cell_type": "code",
   "execution_count": 22,
   "id": "dfabe661-3d8a-413f-8c13-1045bb8cfff9",
   "metadata": {},
   "outputs": [
    {
     "name": "stdout",
     "output_type": "stream",
     "text": [
      "3215\n",
      "5808\n"
     ]
    }
   ],
   "source": [
    "interA_negatome2 = negatome2['Interactor_A'].to_list()\n",
    "interB_negatome2 = negatome2['Interactor_B'].to_list()\n",
    "\n",
    "duplicated_pair_negatome2 = set(zip(interA_negatome2, interB_negatome2))\n",
    "duplicated_pair_flat_negatome2 = list(set(itertools.chain(*duplicated_pair_negatome2)))\n",
    "\n",
    "print(len(duplicated_pair_flat_negatome2))\n",
    "print(len(duplicated_pair_negatome2))"
   ]
  },
  {
   "cell_type": "markdown",
   "id": "4774b5b8-ee10-4a6f-abe9-0cb02669edff",
   "metadata": {},
   "source": [
    "* **search uniprot**"
   ]
  },
  {
   "cell_type": "code",
   "execution_count": 23,
   "id": "764030e0-61dd-4a6e-82a2-d0cdfbc3dfbe",
   "metadata": {},
   "outputs": [
    {
     "name": "stdout",
     "output_type": "stream",
     "text": [
      "0 500 1000 1500 2000 2500 3000 3500 4000 4500 "
     ]
    }
   ],
   "source": [
    "duplicated_pair_flat = duplicated_pair_flat_negatome + duplicated_pair_flat_negatome2\n",
    "\n",
    "duplicated_pair = set()\n",
    "duplicated_pair.update(duplicated_pair_negatome)\n",
    "duplicated_pair.update(duplicated_pair_negatome2)\n",
    "len(duplicated_pair)\n",
    "\n",
    "protein_seq_raw = swissprot_paritial_search(duplicated_pair_flat)\n",
    "protein_seq = \"\\n\".join(protein_seq_raw)"
   ]
  },
  {
   "cell_type": "markdown",
   "id": "7d3a52b9-4765-4756-8d93-673ee120261a",
   "metadata": {},
   "source": [
    "* **run CD-HIT**"
   ]
  },
  {
   "cell_type": "code",
   "execution_count": 24,
   "id": "4af4d1ea-5a6c-428c-a482-1aca7ea45054",
   "metadata": {},
   "outputs": [],
   "source": [
    "iid, seq, temp_seq = list(), list(), list()\n",
    "\n",
    "for line in protein_seq.split(\"\\n\"):\n",
    "    if line.startswith(\">\"):\n",
    "        temp_seq = \"\".join(temp_seq)\n",
    "        if len(temp_seq) <= 50 or len(temp_seq) >= 1500:\n",
    "            temp_seq = list()\n",
    "        else :\n",
    "            iid.append(line)\n",
    "            seq.append(temp_seq)\n",
    "            temp_seq = list()\n",
    "    else :\n",
    "        temp_seq.append(line)\n",
    "seq.append(\"\".join(temp_seq))\n",
    "\n",
    "# BioGrid+DIP, HRPD\n",
    "id_seq_pair_raw = list(zip(iid, seq[1:]))\n",
    "\n",
    "with open(CD_HIT_PHTH + 'biogrid_search_negative.fasta', 'w') as f:\n",
    "    for item in list(itertools.chain(*id_seq_pair_raw)):\n",
    "        f.write(\"%s\\n\" % item)"
   ]
  },
  {
   "cell_type": "code",
   "execution_count": 25,
   "id": "9ba32e93-50d8-439f-bb1f-9362b3818d8d",
   "metadata": {
    "tags": []
   },
   "outputs": [
    {
     "name": "stdout",
     "output_type": "stream",
     "text": [
      "================================================================\n",
      "Program: CD-HIT, V4.8.1 (+OpenMP), Apr 07 2021, 10:57:21\n",
      "Command: cd-hit -i\n",
      "         /home/wmbio/WORK/gitworking/deeptrio/data/CD-HIT_RESULT/biogrid_search_negative.fasta\n",
      "         -o\n",
      "         /home/wmbio/WORK/gitworking/deeptrio/data/CD-HIT_RESULT/biogrid_search_negative_cdhit.fasta\n",
      "         -n 2 -c 0.4 -T 15 -M 1000\n",
      "\n",
      "Started: Wed Feb 23 08:50:01 2022\n",
      "================================================================\n",
      "                            Output                              \n",
      "----------------------------------------------------------------\n",
      "total seq: 4303\n",
      "longest and shortest : 1499 and 51\n",
      "Total letters: 1887378\n",
      "Sequences have been sorted\n",
      "\n",
      "Approximated minimal memory consumption:\n",
      "Sequence        : 2M\n",
      "Buffer          : 15 X 10M = 162M\n",
      "Table           : 2 X 0M = 0M\n",
      "Miscellaneous   : 0M\n",
      "Total           : 165M\n",
      "\n",
      "Table limit with the given memory limit:\n",
      "Max number of representatives: 1224396\n",
      "Max number of word counting entries: 104303178\n",
      "\n",
      "# comparing sequences from          0  to        253\n",
      "---------- new table with      192 representatives\n",
      "# comparing sequences from        253  to        491\n",
      "99.8%---------- new table with      174 representatives\n",
      "# comparing sequences from        491  to        715\n",
      "99.9%---------- new table with      156 representatives\n",
      "# comparing sequences from        715  to        926\n",
      "99.8%---------- new table with      166 representatives\n",
      "# comparing sequences from        926  to       1124\n",
      "99.8%---------- new table with      141 representatives\n",
      "# comparing sequences from       1124  to       1311\n",
      "99.9%---------- new table with      129 representatives\n",
      "# comparing sequences from       1311  to       1487\n",
      "100.0%---------- new table with      118 representatives\n",
      "# comparing sequences from       1487  to       1652\n",
      "99.7%---------- new table with      110 representatives\n",
      "# comparing sequences from       1652  to       1807\n",
      "99.9%---------- new table with       90 representatives\n",
      "# comparing sequences from       1807  to       1953\n",
      "99.8%---------- new table with      113 representatives\n",
      "# comparing sequences from       1953  to       2091\n",
      "100.0%---------- new table with       92 representatives\n",
      "# comparing sequences from       2091  to       2221\n",
      "100.0%---------- new table with       87 representatives\n",
      "# comparing sequences from       2221  to       2343\n",
      "99.8%---------- new table with       82 representatives\n",
      "# comparing sequences from       2343  to       2458\n",
      "99.9%---------- new table with       81 representatives\n",
      "# comparing sequences from       2458  to       2566\n",
      "99.9%---------- new table with       70 representatives\n",
      "# comparing sequences from       2566  to       2668\n",
      "99.7%---------- new table with       72 representatives\n",
      "# comparing sequences from       2668  to       2764\n",
      "99.9%---------- new table with       70 representatives\n",
      "# comparing sequences from       2764  to       2854\n",
      "99.8%---------- new table with       54 representatives\n",
      "# comparing sequences from       2854  to       2939\n",
      "99.8%---------- new table with       57 representatives\n",
      "# comparing sequences from       2939  to       3019\n",
      "99.8%---------- new table with       48 representatives\n",
      "# comparing sequences from       3019  to       3094\n",
      "99.8%---------- new table with       50 representatives\n",
      "# comparing sequences from       3094  to       3165\n",
      "99.9%---------- new table with       46 representatives\n",
      "# comparing sequences from       3165  to       3231\n",
      "100.0%---------- new table with       40 representatives\n",
      "# comparing sequences from       3231  to       3294\n",
      "99.9%---------- new table with       43 representatives\n",
      "# comparing sequences from       3294  to       3353\n",
      "100.0%---------- new table with       33 representatives\n",
      "# comparing sequences from       3353  to       4303\n",
      "....................---------- new table with      577 representatives\n",
      "\n",
      "     4303  finished       2891  clusters\n",
      "\n",
      "Approximated maximum memory consumption: 166M\n",
      "writing new database\n",
      "writing clustering information\n",
      "program completed !\n",
      "\n",
      "Total CPU time 147.18\n"
     ]
    }
   ],
   "source": [
    "!bash run_cd_hit.sh {CD_HIT_PHTH}biogrid_search_negative.fasta {CD_HIT_PHTH}biogrid_search_negative_cdhit.fasta"
   ]
  },
  {
   "cell_type": "code",
   "execution_count": 26,
   "id": "2668ac23-da05-4483-ae41-ddf3f7235217",
   "metadata": {},
   "outputs": [],
   "source": [
    "cdhit_seq, iid, seq, temp_seq = list(), list(), list(), list()\n",
    "\n",
    "with open(CD_HIT_PHTH + 'biogrid_search_negative.fasta', 'r') as f:\n",
    "    for line in f:\n",
    "        cdhit_seq.append(line.strip(\"\\n\"))\n",
    "\n",
    "for index in range(len(cdhit_seq)):\n",
    "    if index == 0:\n",
    "        iid.append(cdhit_seq[index])  \n",
    "    else :\n",
    "        if cdhit_seq[index].startswith(\">\"):\n",
    "            iid.append(cdhit_seq[index])\n",
    "        else :\n",
    "            seq.append(cdhit_seq[index])            \n",
    "id_seq_pair = list(zip(iid, seq))"
   ]
  },
  {
   "cell_type": "code",
   "execution_count": 27,
   "id": "074b0877-eb3a-4e16-b7da-169af6642510",
   "metadata": {},
   "outputs": [
    {
     "data": {
      "text/plain": [
       "4303"
      ]
     },
     "execution_count": 27,
     "metadata": {},
     "output_type": "execute_result"
    }
   ],
   "source": [
    "duplicated_pair_df = pd.DataFrame(duplicated_pair)\n",
    "duplicated_pair_df.columns = [\"Interactor_A\", \"Interactor_B\"]\n",
    "\n",
    "id_seq_pair_df = pd.DataFrame(id_seq_pair)\n",
    "\n",
    "id_seq_pair_df.columns = [\"id\", \"seq\"]\n",
    "len(id_seq_pair_df.dropna())"
   ]
  },
  {
   "cell_type": "code",
   "execution_count": 28,
   "id": "da601ad9-26e6-423a-9c87-6e9f38c0cffe",
   "metadata": {},
   "outputs": [],
   "source": [
    "refseq = id_seq_pair_df[id_seq_pair_df['id'].str.startswith(\">NP\")]\n",
    "\n",
    "refseq['id'] = refseq['id'].str.replace(\">\",\"\",1)\n",
    "\n",
    "id_seq_pair_df['id'] = id_seq_pair_df['id'].str.extract('((?<=\\\\>sp\\\\|)[a-zA-Z0-9]+)', expand=False)\n",
    "\n",
    "id_seq_pair_df = id_seq_pair_df.dropna().append(refseq, ignore_index=True)"
   ]
  },
  {
   "cell_type": "code",
   "execution_count": 29,
   "id": "0b436b84-ef8c-44c3-b93c-a2f71fd7effd",
   "metadata": {},
   "outputs": [],
   "source": [
    "# pair df filter\n",
    "duplicated_pair_df['Check_A'] = duplicated_pair_df['Interactor_A'].apply(lambda x : 1 if x in id_seq_pair_df.id.to_list() else 0)\n",
    "duplicated_pair_df['Check_B'] = duplicated_pair_df['Interactor_B'].apply(lambda x : 1 if x in id_seq_pair_df.id.to_list() else 0)\n",
    "\n",
    "duplicated_pair_df = duplicated_pair_df[(duplicated_pair_df.Check_A == 1) & (duplicated_pair_df.Check_B == 1)].iloc[:, 0:2]\n",
    "duplicated_pair_df['label'] = [0 for _ in range(duplicated_pair_df.shape[0])]"
   ]
  },
  {
   "cell_type": "code",
   "execution_count": 30,
   "id": "ca4ea0e8-b3fb-4362-9091-02f7c1c6ecda",
   "metadata": {},
   "outputs": [],
   "source": [
    "# id seq pair filter\n",
    "dup_pair_seq = set((list(duplicated_pair_df.Interactor_A.to_list()) + list(duplicated_pair_df.Interactor_B.to_list())))\n",
    "\n",
    "id_seq_pair_df['Check_A'] = id_seq_pair_df['id'].apply(lambda x : 1 if x in dup_pair_seq else 0)\n",
    "id_seq_pair_df['Check_B'] = id_seq_pair_df['id'].apply(lambda x : 1 if x in dup_pair_seq else 0)\n",
    "\n",
    "id_seq_pair_df = id_seq_pair_df[(id_seq_pair_df.Check_A == 1) & (id_seq_pair_df.Check_B == 1)].iloc[:, 0:2]"
   ]
  },
  {
   "cell_type": "code",
   "execution_count": 31,
   "id": "e404203f-4346-4e72-b4a8-c000970dbc94",
   "metadata": {},
   "outputs": [],
   "source": [
    "# final\n",
    "negativePair = duplicated_pair_df\n",
    "negativePair_seq = id_seq_pair_df"
   ]
  },
  {
   "cell_type": "code",
   "execution_count": 32,
   "id": "51474493-5006-4456-a0f5-5cbe6487146a",
   "metadata": {},
   "outputs": [
    {
     "data": {
      "text/html": [
       "<div>\n",
       "<style scoped>\n",
       "    .dataframe tbody tr th:only-of-type {\n",
       "        vertical-align: middle;\n",
       "    }\n",
       "\n",
       "    .dataframe tbody tr th {\n",
       "        vertical-align: top;\n",
       "    }\n",
       "\n",
       "    .dataframe thead th {\n",
       "        text-align: right;\n",
       "    }\n",
       "</style>\n",
       "<table border=\"1\" class=\"dataframe\">\n",
       "  <thead>\n",
       "    <tr style=\"text-align: right;\">\n",
       "      <th></th>\n",
       "      <th>id</th>\n",
       "      <th>seq</th>\n",
       "    </tr>\n",
       "  </thead>\n",
       "  <tbody>\n",
       "    <tr>\n",
       "      <th>0</th>\n",
       "      <td>Q6RFH5</td>\n",
       "      <td>MAAAAARWNHVWVGTETGILKGVNLQRKQAANFTAGGQPRREEAVS...</td>\n",
       "    </tr>\n",
       "    <tr>\n",
       "      <th>1</th>\n",
       "      <td>P17028</td>\n",
       "      <td>MSAQSVEEDSILIIPTPDEEEKILRVKLEEDPDGEEGSSIPWNHLP...</td>\n",
       "    </tr>\n",
       "    <tr>\n",
       "      <th>2</th>\n",
       "      <td>P47914</td>\n",
       "      <td>MAKSKNHTTHNQSRKWHRNGIKKPRSQRYESLKGVDPKFLRNMRFA...</td>\n",
       "    </tr>\n",
       "    <tr>\n",
       "      <th>3</th>\n",
       "      <td>P62328</td>\n",
       "      <td>MVTHSKFPAAGMSRPLDTSLRLKTFSSKSEYQLVVNAVRKLQESGF...</td>\n",
       "    </tr>\n",
       "    <tr>\n",
       "      <th>4</th>\n",
       "      <td>P49368</td>\n",
       "      <td>MMGHRPVLVLSQNTKRESGRKVQSGNINAAKTIADIIRTCLGPKSM...</td>\n",
       "    </tr>\n",
       "    <tr>\n",
       "      <th>...</th>\n",
       "      <td>...</td>\n",
       "      <td>...</td>\n",
       "    </tr>\n",
       "    <tr>\n",
       "      <th>3875</th>\n",
       "      <td>P48736</td>\n",
       "      <td>MELENYKQPVVLREDNCRRRRRMKPRSAAASLSSMELIPIEFVLPT...</td>\n",
       "    </tr>\n",
       "    <tr>\n",
       "      <th>3876</th>\n",
       "      <td>Q8N2W9</td>\n",
       "      <td>MAAELVEAKNMVMSFRVSDLQMLLGFVGRSKSGLKHELVTRALQLV...</td>\n",
       "    </tr>\n",
       "    <tr>\n",
       "      <th>3877</th>\n",
       "      <td>P15559</td>\n",
       "      <td>MVGRRALIVLAHSERTSFNYAMKEAAAAALKKKGWEVVESDLYAMN...</td>\n",
       "    </tr>\n",
       "    <tr>\n",
       "      <th>3878</th>\n",
       "      <td>Q3E7X9</td>\n",
       "      <td>MDNKTPVTLAKVIKVLGRTGSRGGVTQVRVEFLEDTSRTIVRNVKG...</td>\n",
       "    </tr>\n",
       "    <tr>\n",
       "      <th>3879</th>\n",
       "      <td>Q02385</td>\n",
       "      <td>MLFVFILFLPSCLGYIGDFRCIQTVNYNGNNASAPSISTEAVDVSK...</td>\n",
       "    </tr>\n",
       "  </tbody>\n",
       "</table>\n",
       "<p>3624 rows × 2 columns</p>\n",
       "</div>"
      ],
      "text/plain": [
       "          id                                                seq\n",
       "0     Q6RFH5  MAAAAARWNHVWVGTETGILKGVNLQRKQAANFTAGGQPRREEAVS...\n",
       "1     P17028  MSAQSVEEDSILIIPTPDEEEKILRVKLEEDPDGEEGSSIPWNHLP...\n",
       "2     P47914  MAKSKNHTTHNQSRKWHRNGIKKPRSQRYESLKGVDPKFLRNMRFA...\n",
       "3     P62328  MVTHSKFPAAGMSRPLDTSLRLKTFSSKSEYQLVVNAVRKLQESGF...\n",
       "4     P49368  MMGHRPVLVLSQNTKRESGRKVQSGNINAAKTIADIIRTCLGPKSM...\n",
       "...      ...                                                ...\n",
       "3875  P48736  MELENYKQPVVLREDNCRRRRRMKPRSAAASLSSMELIPIEFVLPT...\n",
       "3876  Q8N2W9  MAAELVEAKNMVMSFRVSDLQMLLGFVGRSKSGLKHELVTRALQLV...\n",
       "3877  P15559  MVGRRALIVLAHSERTSFNYAMKEAAAAALKKKGWEVVESDLYAMN...\n",
       "3878  Q3E7X9  MDNKTPVTLAKVIKVLGRTGSRGGVTQVRVEFLEDTSRTIVRNVKG...\n",
       "3879  Q02385  MLFVFILFLPSCLGYIGDFRCIQTVNYNGNNASAPSISTEAVDVSK...\n",
       "\n",
       "[3624 rows x 2 columns]"
      ]
     },
     "execution_count": 32,
     "metadata": {},
     "output_type": "execute_result"
    }
   ],
   "source": [
    "negativePair_seq"
   ]
  },
  {
   "cell_type": "markdown",
   "id": "195328fc-3a5a-43fa-966d-a6ef34856e84",
   "metadata": {},
   "source": [
    "## **Positive + Negative PPI**"
   ]
  },
  {
   "cell_type": "code",
   "execution_count": 33,
   "id": "7033566c-f316-4c54-82f5-1743a56fb507",
   "metadata": {},
   "outputs": [],
   "source": [
    "TRAIN_PATH = \"/home/wmbio/WORK/gitworking/deeptrio/data/Train_set/\""
   ]
  },
  {
   "cell_type": "code",
   "execution_count": 34,
   "id": "b795d0a0-3927-4622-ae92-045d4a8fce35",
   "metadata": {},
   "outputs": [],
   "source": [
    "positivePair_set = set(zip(positivePair.Interactor_A.to_list(), positivePair.Interactor_B.to_list()))\n",
    "negativePair_set = set(zip(negativePair.Interactor_A.to_list(), negativePair.Interactor_B.to_list()))"
   ]
  },
  {
   "cell_type": "code",
   "execution_count": 39,
   "id": "b5d68485-43b6-483e-b4da-25cf7ff250ec",
   "metadata": {},
   "outputs": [
    {
     "name": "stdout",
     "output_type": "stream",
     "text": [
      "41287\n",
      "66869\n"
     ]
    }
   ],
   "source": [
    "print(len(positivePair_set))\n",
    "print(len(negativePair_set))"
   ]
  },
  {
   "cell_type": "code",
   "execution_count": 35,
   "id": "d13cc628-8ed5-4144-9fe5-7d3190571c44",
   "metadata": {},
   "outputs": [],
   "source": [
    "combine_dataset = positivePair.append(negativePair).drop_duplicates().sample(frac=1).reset_index(drop=True)"
   ]
  },
  {
   "cell_type": "code",
   "execution_count": 36,
   "id": "b73e7bc8-b71a-4884-91c7-d2fb1f33d740",
   "metadata": {},
   "outputs": [],
   "source": [
    "combine_dataset_seq = positivePair_seq.append(negativePair_seq).drop_duplicates().reset_index(drop=True)"
   ]
  },
  {
   "cell_type": "markdown",
   "id": "262309a0-ca17-43d1-88b5-99558b4daf21",
   "metadata": {},
   "source": [
    "* **write train_set**"
   ]
  },
  {
   "cell_type": "code",
   "execution_count": 37,
   "id": "9fc258f1-16f4-427f-bde4-12d89d5ee3ae",
   "metadata": {},
   "outputs": [],
   "source": [
    "combine_dataset.to_csv(TRAIN_PATH + \"human_ppi_pair.tsv\", sep=\"\\t\", index=False, header=False)"
   ]
  },
  {
   "cell_type": "code",
   "execution_count": 38,
   "id": "31781e84-0f46-4747-a61d-b56c468fd8d8",
   "metadata": {},
   "outputs": [],
   "source": [
    "combine_dataset_seq.to_csv(TRAIN_PATH + \"human_ppi_seq.tsv\", sep=\"\\t\", index=False, header=False)"
   ]
  },
  {
   "cell_type": "code",
   "execution_count": null,
   "id": "cb1b54bb-6306-4c84-be43-7c17fe5dc4ff",
   "metadata": {},
   "outputs": [],
   "source": []
  }
 ],
 "metadata": {
  "kernelspec": {
   "display_name": "deeptrio-gpu",
   "language": "python",
   "name": "deeptrio-gpu"
  },
  "language_info": {
   "codemirror_mode": {
    "name": "ipython",
    "version": 3
   },
   "file_extension": ".py",
   "mimetype": "text/x-python",
   "name": "python",
   "nbconvert_exporter": "python",
   "pygments_lexer": "ipython3",
   "version": "3.7.11"
  }
 },
 "nbformat": 4,
 "nbformat_minor": 5
}
