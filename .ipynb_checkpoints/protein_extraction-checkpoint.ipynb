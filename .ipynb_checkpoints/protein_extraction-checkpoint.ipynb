{
 "cells": [
  {
   "cell_type": "code",
   "execution_count": 22,
   "id": "0a9d5d36-0627-4494-9b5c-b4298b3c0a10",
   "metadata": {},
   "outputs": [],
   "source": [
    "import pandas as pd\n",
    "import numpy as np\n",
    "from functools import reduce\n",
    "import os\n",
    "import re\n",
    "from pathlib import Path\n",
    "\n",
    "import urllib.parse\n",
    "import urllib.request\n",
    "import matplotlib\n",
    "matplotlib.use('Agg')\n",
    "from venn import venn"
   ]
  },
  {
   "cell_type": "code",
   "execution_count": 233,
   "id": "4e691468-569e-4f8f-8340-c349853ffd75",
   "metadata": {},
   "outputs": [],
   "source": [
    "def foward_look(value):\n",
    "    p = re.compile('.+(?=\\\\.)')\n",
    "    m = p.search(value)\n",
    "    return m.group()\n",
    "\n",
    "def gene_retrieve(swissprot):\n",
    "    \n",
    "    swissprot_query = \"\\t\".join(swissprot)\n",
    "    \n",
    "    url = 'https://www.uniprot.org/uploadlists/'\n",
    "    params = {\n",
    "    'from': 'ACC+ID',\n",
    "    'to': 'GENENAME',\n",
    "    'format': 'tab',\n",
    "    'query': ''\n",
    "    }\n",
    "    \n",
    "    params[\"query\"] = swissprot_query\n",
    "    \n",
    "    data = urllib.parse.urlencode(params)\n",
    "    data = data.encode('utf-8')\n",
    "    req = urllib.request.Request(url, data)\n",
    "    with urllib.request.urlopen(req) as f:\n",
    "        response = f.read()\n",
    "\n",
    "    gene_ID = list(map(lambda x : x.split('\\t'), response.decode('utf-8').split('\\n')))[1:-1] # first - last row \n",
    "    gene_ID = pd.DataFrame(gene_ID)\n",
    "    gene_ID.columns = [\"SWISSPROT\", \"GENE\"]\n",
    "    \n",
    "    return gene_ID\n",
    "    \n",
    "def uniprot_retrieve(ensembl, dscript=None):    \n",
    "#     ensembl_query = \"\\t\".join(list(map(foward_look, ensembl)))\n",
    "    ensembl_query = \"\\t\".join(ensembl)\n",
    "    \n",
    "    url = 'https://www.uniprot.org/uploadlists/'\n",
    "    params = {\n",
    "    'from': 'ENSEMBL_PRO_ID',\n",
    "    'to': 'ID',\n",
    "    'format': 'tab',\n",
    "    'query' : ''\n",
    "    }\n",
    "    \n",
    "    params[\"query\"] = ensembl_query\n",
    "    \n",
    "    # uniprotKB\n",
    "    data = urllib.parse.urlencode(params)\n",
    "    data = data.encode('utf-8')\n",
    "    req = urllib.request.Request(url, data)\n",
    "    with urllib.request.urlopen(req) as f:\n",
    "        response = f.read()\n",
    "        \n",
    "    UniProtKB_ID = list(map(lambda x : x.split('\\t'), response.decode('utf-8').split('\\n')))[1:-1] # first - last row \n",
    "    UniProtKB_ID = pd.DataFrame(UniProtKB_ID)\n",
    "    UniProtKB_ID.columns = [\"proteinB\", \"UniProtKB_ID\"]\n",
    "    \n",
    "    if dscript:\n",
    "        params[\"to\"] = \"ACC\"\n",
    "    else :\n",
    "        params[\"to\"] = \"SWISSPROT\"\n",
    "    \n",
    "    #swissprot\n",
    "    data = urllib.parse.urlencode(params)\n",
    "    data = data.encode('utf-8')\n",
    "    req = urllib.request.Request(url, data)\n",
    "    with urllib.request.urlopen(req) as f:\n",
    "        response = f.read()\n",
    "        \n",
    "    SWISSPROT = list(map(lambda x : x.split('\\t'), response.decode('utf-8').split('\\n')))[1:-1] # first - last row \n",
    "    SWISSPROT = pd.DataFrame(SWISSPROT)\n",
    "    SWISSPROT.columns = [\"proteinB\", \"SWISSPROT\"]\n",
    "    \n",
    "    return pd.merge(UniProtKB_ID, SWISSPROT, on = \"proteinB\")"
   ]
  },
  {
   "cell_type": "markdown",
   "id": "7dbd12c5-76f9-4c7d-bfc9-e4d11aa70520",
   "metadata": {},
   "source": [
    "### **PATH**"
   ]
  },
  {
   "cell_type": "code",
   "execution_count": 396,
   "id": "63da6a4b-b41c-4afa-9b1e-3d0d82a27de6",
   "metadata": {},
   "outputs": [],
   "source": [
    "BASE_PATH = \"/home/km/gitworking/ppi_prediction/\"\n",
    "PIPR_RESULT = BASE_PATH + \"PIPR/RESULT/\" + \"IGSF1.tsv\"\n",
    "DEEPTRIO_RESULT = BASE_PATH + \"DeepTrio/RESULT/\" + \"IGSF1.txt\"\n",
    "DSCRIPT_RESULT = BASE_PATH + \"D-SCRIPT/RESULT/\" + \"IGSF1_RESULT/\"\n",
    "PP_RESULT = BASE_PATH + \"ProteinPrompt/\" + \"IGSF1.txt\"\n",
    "OUT = BASE_PATH + \"RESULT/\"\n",
    "Path(OUT).mkdir(parents=True, exist_ok=True)"
   ]
  },
  {
   "cell_type": "code",
   "execution_count": 388,
   "id": "072fffc3-fd87-4a4e-84f4-97d6b3ffda29",
   "metadata": {},
   "outputs": [],
   "source": [
    "PIPR_CUT = 0.9\n",
    "DEEPTRIO_CUT = 0.9\n",
    "PP_CUT = 0.95\n",
    "OUTPUT = \"IGSF1\""
   ]
  },
  {
   "cell_type": "markdown",
   "id": "36e6ae8e-1010-4d47-87b3-74295f4a4302",
   "metadata": {},
   "source": [
    "### **PIPR**"
   ]
  },
  {
   "cell_type": "code",
   "execution_count": 389,
   "id": "e6d916a7-2d40-47d4-bcd1-4672047ccf82",
   "metadata": {},
   "outputs": [],
   "source": [
    "# PIPR\n",
    "pipr_result = pd.read_csv(PIPR_RESULT, delimiter=\"\\t\")\n",
    "pipr_result.columns = [\"pairs\", \"True\", \"False\"]\n",
    "\n",
    "pipr_df = pipr_result['pairs'].str.split('-', expand=True)\n",
    "pipr_df[[\"True\"]] = pipr_result[[\"True\"]]\n",
    "pipr_df.columns = [\"proteinA\", \"proteinB\", \"probability\"]\n",
    "pipr_df['proteinB'] = list(map(foward_look, pipr_df['proteinB'].to_list()))\n",
    "\n",
    "mapping_df = uniprot_retrieve(pipr_df.proteinB.to_list())\n",
    "PIPR_df = pd.merge(mapping_df, pipr_df, on='proteinB', how = \"inner\")"
   ]
  },
  {
   "cell_type": "markdown",
   "id": "67c295dc-7eda-4d8a-ae88-785beecf4bdb",
   "metadata": {},
   "source": [
    "### **DeepTrio**"
   ]
  },
  {
   "cell_type": "code",
   "execution_count": 390,
   "id": "c2639541-f3bf-45a1-8f94-4c7d6112f3c7",
   "metadata": {
    "tags": []
   },
   "outputs": [],
   "source": [
    "deeptrio_df = pd.read_csv(DEEPTRIO_RESULT, sep=\"\\t\", index_col=False).iloc[:, :3]\n",
    "deeptrio_df.columns = [\"proteinA\", \"proteinB\", \"probability\"]\n",
    "deeptrio_df['proteinB'] = list(map(foward_look, deeptrio_df['proteinB'].to_list()))\n",
    "\n",
    "mapping_df = uniprot_retrieve(deeptrio_df.proteinB.to_list())\n",
    "DeepTrio_df = pd.merge(mapping_df, deeptrio_df, on='proteinB', how = \"inner\")"
   ]
  },
  {
   "cell_type": "markdown",
   "id": "daeba5dc-1b33-44dc-bdd7-140fd6021314",
   "metadata": {},
   "source": [
    "### **ProteinPrompt**"
   ]
  },
  {
   "cell_type": "code",
   "execution_count": 391,
   "id": "a7bd65c3-0418-49ab-bd6e-c0dc0c228ba9",
   "metadata": {},
   "outputs": [],
   "source": [
    "pp_df = pd.read_csv(PP_RESULT, sep=\"\\t\", index_col=False, header=None)\n",
    "pp_df.columns = ['protein', 'probability', 'N', 'SWISSPROT']"
   ]
  },
  {
   "cell_type": "markdown",
   "id": "b2d5e1da-3a0f-4539-a8c6-5e2d79e56cbb",
   "metadata": {},
   "source": [
    "### **D-SCRIPT**"
   ]
  },
  {
   "cell_type": "code",
   "execution_count": 397,
   "id": "0cfa2a7e-ad70-4d8b-9a03-305394ed2dfd",
   "metadata": {},
   "outputs": [
    {
     "name": "stdout",
     "output_type": "stream",
     "text": [
      "no Positive interaction\n",
      "no Positive interaction\n",
      "no Positive interaction\n",
      "no Positive interaction\n"
     ]
    }
   ],
   "source": [
    "dscript_list = []\n",
    "\n",
    "for (root, directories, files) in os.walk(DSCRIPT_RESULT):\n",
    "    for file in files:\n",
    "        if 'positive.tsv' in file:\n",
    "            file_path = os.path.join(root, file)\n",
    "            try:\n",
    "                dscript_list.append(pd.read_csv(file_path, sep='\\t', header=None))\n",
    "            except:\n",
    "                print(\"no Positive interaction\")"
   ]
  },
  {
   "cell_type": "code",
   "execution_count": 398,
   "id": "94c11334-c103-4a04-83d8-c8f0b7ed5e13",
   "metadata": {},
   "outputs": [],
   "source": [
    "dscript_df = reduce(lambda x, y : pd.concat([x,y]), dscript_list)\n",
    "dscript_df.columns = [\"proteinA\", \"proteinB\", \"probability\"]\n",
    "dscript_df['proteinB'] = list(map(foward_look, dscript_df['proteinB'].to_list()))\n",
    "\n",
    "mapping_df = uniprot_retrieve(dscript_df.proteinB.to_list(), dscript=True)\n",
    "DSCRIPT_df = pd.merge(mapping_df, dscript_df, on='proteinB', how = \"inner\")"
   ]
  },
  {
   "cell_type": "markdown",
   "id": "ebf96355-87cf-49ad-91ba-31ea10954f3b",
   "metadata": {},
   "source": [
    "### **Ven diagram**"
   ]
  },
  {
   "cell_type": "code",
   "execution_count": 459,
   "id": "5921a55e-8918-4e00-b013-da7eba145cc2",
   "metadata": {},
   "outputs": [
    {
     "data": {
      "text/plain": [
       "891"
      ]
     },
     "execution_count": 459,
     "metadata": {},
     "output_type": "execute_result"
    }
   ],
   "source": [
    "pipr = set(PIPR_df[PIPR_df.probability > PIPR_CUT].loc[:, \"SWISSPROT\"].to_list())\n",
    "pipr = set(gene_retrieve([*pipr]).SWISSPROT.to_list())\n",
    "len(pipr)"
   ]
  },
  {
   "cell_type": "code",
   "execution_count": 460,
   "id": "fea2f877-1b2a-4ad9-a45b-7b972cbb79d7",
   "metadata": {},
   "outputs": [
    {
     "data": {
      "text/plain": [
       "2990"
      ]
     },
     "execution_count": 460,
     "metadata": {},
     "output_type": "execute_result"
    }
   ],
   "source": [
    "pp = set(pp_df[pp_df.probability > PP_CUT].loc[:, \"SWISSPROT\"].to_list())\n",
    "pp = set(gene_retrieve([*pp]).SWISSPROT.to_list())\n",
    "len(pp)"
   ]
  },
  {
   "cell_type": "code",
   "execution_count": 461,
   "id": "9114ed99-929d-453c-8b90-c8ff9b554922",
   "metadata": {
    "tags": []
   },
   "outputs": [
    {
     "data": {
      "text/plain": [
       "79"
      ]
     },
     "execution_count": 461,
     "metadata": {},
     "output_type": "execute_result"
    }
   ],
   "source": [
    "deeptrio = set(DeepTrio_df[DeepTrio_df.probability > DEEPTRIO_CUT].loc[:, \"SWISSPROT\"].to_list())\n",
    "deeptrio = set(gene_retrieve([*deeptrio]).SWISSPROT.to_list())\n",
    "len(depptrio_ven)"
   ]
  },
  {
   "cell_type": "code",
   "execution_count": 462,
   "id": "d8ad0600-76ca-4b79-8756-3874f7f80048",
   "metadata": {},
   "outputs": [
    {
     "data": {
      "text/plain": [
       "40"
      ]
     },
     "execution_count": 462,
     "metadata": {},
     "output_type": "execute_result"
    }
   ],
   "source": [
    "dscript = set(DSCRIPT_df.SWISSPROT.to_list())\n",
    "dscript = set(gene_retrieve([*dscript]).SWISSPROT.to_list())\n",
    "len(dscript_ven)"
   ]
  },
  {
   "cell_type": "code",
   "execution_count": 464,
   "id": "2c9c535b-fa00-4b79-bd78-70d1a7cfda70",
   "metadata": {},
   "outputs": [],
   "source": [
    "ppi_inter = {\"PIPR(>\" + str(PIPR_CUT) + \")\": pipr, \n",
    "             \"DeepTrio(>\" + str(DEEPTRIO_CUT) + \")\" :deeptrio, \n",
    "             \"ProteinPrompt(>\"+ str(PP_CUT) + \")\":pp, \n",
    "             \"D-SCRIPT(>.7)\":dscript}"
   ]
  },
  {
   "cell_type": "code",
   "execution_count": 465,
   "id": "d02aaa85-c5cd-4fa2-bfbe-8ae20e623e91",
   "metadata": {},
   "outputs": [
    {
     "data": {
      "image/png": "[encoded data removed]",
      "text/plain": [
       "<Figure size 576x576 with 1 Axes>"
      ]
     },
     "metadata": {},
     "output_type": "display_data"
    }
   ],
   "source": [
    "%matplotlib inline\n",
    "v = venn(ppi_inter)"
   ]
  },
  {
   "cell_type": "markdown",
   "id": "79c8d7e8-8760-4426-a64e-9e005668b3aa",
   "metadata": {},
   "source": [
    "### **Result Writing**"
   ]
  },
  {
   "cell_type": "markdown",
   "id": "cdd1696a-5d85-46f5-8673-007b113dbc69",
   "metadata": {},
   "source": [
    "* **intersection**"
   ]
  },
  {
   "cell_type": "code",
   "execution_count": 414,
   "id": "382e6c17-5c7f-447a-9c7f-609228762119",
   "metadata": {},
   "outputs": [],
   "source": [
    "pipr_deeptrio = list((pipr & deeptrio) - (pipr & deeptrio & pp) - (pipr & deeptrio & dscript) - (pipr & deeptrio & dscript & pp))\n",
    "pipr_pp = list((pipr & pp) - (pipr & deeptrio & pp) - (pipr & deeptrio & dscript) -(pipr & deeptrio & dscript & pp))\n",
    "pipr_dscript = list((pipr & dscript) - (pipr & deeptrio & pp) - (pipr & deeptrio & dscript & pp))\n",
    "deeptrio_pp = list((pp & deeptrio) - (pipr & deeptrio & pp) - (pipr & deeptrio & dscript) - (pipr & deeptrio & dscript & pp))\n",
    "deeptrio_dscript = list((dscript & deeptrio) - (pipr & deeptrio & pp) - (pipr & deeptrio & dscript) - (pipr & deeptrio & dscript & pp))\n",
    "pp_dscript = list((dscript & pp) - (pipr & deeptrio & pp) - (pipr & deeptrio & dscript) - (pipr & deeptrio & dscript & pp))\n",
    "\n",
    "pipr_deeptrio_pp = list((pipr & deeptrio & pp) - ((pipr & deeptrio & pp & dscript)))\n",
    "pipr_deeptrio_dscript = list((pipr & deeptrio & dscript) - ((pipr & deeptrio & pp & dscript)))\n",
    "deeptrio_dscript_pp = list((pp & deeptrio & dscript) - ((pipr & deeptrio & pp & dscript)))\n",
    "pipr_deeptrio_dscript_pp = list((pipr & deeptrio & pp & dscript))"
   ]
  },
  {
   "cell_type": "code",
   "execution_count": 419,
   "id": "729216a4-587e-4d66-9bcb-ac593aecaccb",
   "metadata": {},
   "outputs": [],
   "source": [
    "total_prediction = pipr_deeptrio + pipr_pp + pipr_dscript + deeptrio_pp \\\n",
    "+ deeptrio_dscript + pp_dscript + pipr_deeptrio_pp \\\n",
    "+ pipr_deeptrio_dscript + deeptrio_dscript_pp \\\n",
    "+ pipr_deeptrio_dscript_pp\n",
    "total_prediction = set(total_prediction + [*dscript]) # D-SCRIPT 추가"
   ]
  },
  {
   "cell_type": "code",
   "execution_count": 420,
   "id": "45b1db16-b0a7-457b-9c0a-f3c862540549",
   "metadata": {},
   "outputs": [],
   "source": [
    "total_prediction_df = pd.DataFrame(total_prediction, columns=[\"SWISSPROT\"])\n",
    "total_prediction_df = gene_retrieve(total_prediction_df.SWISSPROT.to_list()) # gene mapping"
   ]
  },
  {
   "cell_type": "markdown",
   "id": "1a1e0b4b-ef99-4776-b868-64b75016efd1",
   "metadata": {},
   "source": [
    "* **check**"
   ]
  },
  {
   "cell_type": "code",
   "execution_count": 421,
   "id": "a7ca85b0-428a-433d-bb89-7c6399efcd2e",
   "metadata": {},
   "outputs": [],
   "source": [
    "pipr_check = [\"V\" if id in pipr else \"\" for id in total_prediction_df.SWISSPROT.to_list()]\n",
    "deeptrio_check = [\"V\" if id in deeptrio else \"\" for id in total_prediction_df.SWISSPROT.to_list()]\n",
    "dscript_check = [\"V\" if id in dscript else \"\" for id in total_prediction_df.SWISSPROT.to_list()]\n",
    "pp_check = [\"V\" if id in pp else \"\" for id in total_prediction_df.SWISSPROT.to_list()]\n",
    "check_df = pd.DataFrame(zip(total_prediction, pipr_check, deeptrio_check, dscript_check, pp_check), \n",
    "             columns=[\"SWISSPROT\",\"PIPR(>.9)\", \"DeepTrio(>.9)\", \"D-SCRIPT(>.7)\", \"ProteinPrompt(>.95)\"])"
   ]
  },
  {
   "cell_type": "markdown",
   "id": "d33787d9-d53b-4ce7-9235-97dbfffcd197",
   "metadata": {},
   "source": [
    "### **Write for Result**"
   ]
  },
  {
   "cell_type": "code",
   "execution_count": 422,
   "id": "d07bfc00-9223-4619-8e9f-af74ccc953c0",
   "metadata": {},
   "outputs": [],
   "source": [
    "final_prediction = pd.merge(total_prediction_df, check_df, on=\"SWISSPROT\", how=\"inner\")"
   ]
  },
  {
   "cell_type": "code",
   "execution_count": 423,
   "id": "62dc1904-904b-408e-abeb-de7c52e9c728",
   "metadata": {},
   "outputs": [],
   "source": [
    "final_prediction.to_csv(\"PPI_SYSTEM_RESULT/\"+ OUTPUT + \"_RESULT.csv\", index=False)"
   ]
  }
 ],
 "metadata": {
  "kernelspec": {
   "display_name": "Python 3",
   "language": "python",
   "name": "python3"
  },
  "language_info": {
   "codemirror_mode": {
    "name": "ipython",
    "version": 3
   },
   "file_extension": ".py",
   "mimetype": "text/x-python",
   "name": "python",
   "nbconvert_exporter": "python",
   "pygments_lexer": "ipython3",
   "version": "3.8.8"
  }
 },
 "nbformat": 4,
 "nbformat_minor": 5
}
